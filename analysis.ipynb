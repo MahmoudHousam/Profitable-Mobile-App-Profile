{
 "cells": [
  {
   "cell_type": "markdown",
   "metadata": {},
   "source": [
    "# Profitable App Profiles for the App Store and Google Play Markets"
   ]
  },
  {
   "cell_type": "markdown",
   "metadata": {},
   "source": [
    "# What the project is about?\n",
    "This project is analyzing the Andriod and IOS applications marketshare and their progits"
   ]
  },
  {
   "cell_type": "markdown",
   "metadata": {},
   "source": [
    "# What is the primary goal?\n",
    "This project applys the skills taught in the fundamental Python course for data science. *This notebook is focused around writing Python functions.*"
   ]
  },
  {
   "cell_type": "markdown",
   "metadata": {},
   "source": [
    "# What is the end goal?\n",
    "The aim is to help our developers understand what type of apps are likely to attract more users on Google Play and the App Store."
   ]
  },
  {
   "cell_type": "markdown",
   "metadata": {},
   "source": [
    "### Phase one: Data Cleaning"
   ]
  },
  {
   "cell_type": "code",
   "execution_count": 1,
   "metadata": {
    "collapsed": false
   },
   "outputs": [],
   "source": [
    "from csv import reader\n",
    "def read_data(df):\n",
    "    \"\"\"\n",
    "    This function takes a CSV file\n",
    "    and read the data as a nested list\n",
    "    \"\"\"\n",
    "    opened_file = open(df, encoding='utf8')\n",
    "    read_file = reader(opened_file)\n",
    "    return list(read_file)"
   ]
  },
  {
   "cell_type": "code",
   "execution_count": 2,
   "metadata": {
    "collapsed": true
   },
   "outputs": [],
   "source": [
    "ios_data = read_data('AppleStore.csv')\n",
    "android_data =  read_data('googleplaystore.csv')"
   ]
  },
  {
   "cell_type": "code",
   "execution_count": 3,
   "metadata": {
    "collapsed": true
   },
   "outputs": [],
   "source": [
    "import numpy as np\n",
    "def explore_data(dataset, start, end, shape=True):\n",
    "    \"\"\"\n",
    "    This function read a few rows of the dataset \n",
    "    and print the whole dataframe shape.\n",
    "    I takes 3 positional arguement and 1 default arguement:\n",
    "    * dataset: (the main dataframe)\n",
    "    * start: slicing the df with a start index (int) \n",
    "    * end: ending the slicing with an end index (int)\n",
    "    * Shape: [True, False] prints the shape of the df\n",
    "    \"\"\"\n",
    "    dataset_slice = dataset[start:end]\n",
    "    for row in dataset_slice:\n",
    "        print(row)\n",
    "        print('\\n')\n",
    "    if shape:\n",
    "        print(\"dataframe length\".format(np.shape(dataset)))"
   ]
  },
  {
   "cell_type": "code",
   "execution_count": 4,
   "metadata": {
    "collapsed": false
   },
   "outputs": [
    {
     "name": "stdout",
     "output_type": "stream",
     "text": [
      "['id', 'track_name', 'size_bytes', 'currency', 'price', 'rating_count_tot', 'rating_count_ver', 'user_rating', 'user_rating_ver', 'ver', 'cont_rating', 'prime_genre', 'sup_devices.num', 'ipadSc_urls.num', 'lang.num', 'vpp_lic']\n",
      "\n",
      "\n",
      "['284882215', 'Facebook', '389879808', 'USD', '0.0', '2974676', '212', '3.5', '3.5', '95.0', '4+', 'Social Networking', '37', '1', '29', '1']\n",
      "\n",
      "\n",
      "['389801252', 'Instagram', '113954816', 'USD', '0.0', '2161558', '1289', '4.5', '4.0', '10.23', '12+', 'Photo & Video', '37', '0', '29', '1']\n",
      "\n",
      "\n",
      "['529479190', 'Clash of Clans', '116476928', 'USD', '0.0', '2130805', '579', '4.5', '4.5', '9.24.12', '9+', 'Games', '38', '5', '18', '1']\n",
      "\n",
      "\n",
      "['420009108', 'Temple Run', '65921024', 'USD', '0.0', '1724546', '3842', '4.5', '4.0', '1.6.2', '9+', 'Games', '40', '5', '1', '1']\n",
      "\n",
      "\n",
      "dataframe length\n"
     ]
    }
   ],
   "source": [
    "apple_store = explore_data(ios_data, 0, 5)"
   ]
  },
  {
   "cell_type": "code",
   "execution_count": 5,
   "metadata": {
    "collapsed": false
   },
   "outputs": [
    {
     "name": "stdout",
     "output_type": "stream",
     "text": [
      "['App', 'Category', 'Rating', 'Reviews', 'Size', 'Installs', 'Type', 'Price', 'Content Rating', 'Genres', 'Last Updated', 'Current Ver', 'Android Ver']\n",
      "\n",
      "\n",
      "['Photo Editor & Candy Camera & Grid & ScrapBook', 'ART_AND_DESIGN', '4.1', '159', '19M', '10,000+', 'Free', '0', 'Everyone', 'Art & Design', 'January 7, 2018', '1.0.0', '4.0.3 and up']\n",
      "\n",
      "\n",
      "['Coloring book moana', 'ART_AND_DESIGN', '3.9', '967', '14M', '500,000+', 'Free', '0', 'Everyone', 'Art & Design;Pretend Play', 'January 15, 2018', '2.0.0', '4.0.3 and up']\n",
      "\n",
      "\n",
      "['U Launcher Lite – FREE Live Cool Themes, Hide Apps', 'ART_AND_DESIGN', '4.7', '87510', '8.7M', '5,000,000+', 'Free', '0', 'Everyone', 'Art & Design', 'August 1, 2018', '1.2.4', '4.0.3 and up']\n",
      "\n",
      "\n",
      "['Sketch - Draw & Paint', 'ART_AND_DESIGN', '4.5', '215644', '25M', '50,000,000+', 'Free', '0', 'Teen', 'Art & Design', 'June 8, 2018', 'Varies with device', '4.2 and up']\n",
      "\n",
      "\n"
     ]
    }
   ],
   "source": [
    "android_store = explore_data(android_data, 0, 5, False)"
   ]
  },
  {
   "cell_type": "code",
   "execution_count": 6,
   "metadata": {
    "collapsed": false
   },
   "outputs": [
    {
     "name": "stdout",
     "output_type": "stream",
     "text": [
      "['Life Made WI-Fi Touchscreen Photo Frame', '1.9', '19', '3.0M', '1,000+', 'Free', '0', 'Everyone', '', 'February 11, 2018', '1.0.19', '4.0 and up']\n"
     ]
    }
   ],
   "source": [
    "#the wrong row that reported in the discussion form\n",
    "print(android_data[10473])"
   ]
  },
  {
   "cell_type": "code",
   "execution_count": 7,
   "metadata": {
    "collapsed": false
   },
   "outputs": [
    {
     "data": {
      "text/plain": [
       "10841"
      ]
     },
     "execution_count": 7,
     "metadata": {},
     "output_type": "execute_result"
    }
   ],
   "source": [
    "del android_data[10473]\n",
    "len(android_data)"
   ]
  },
  {
   "cell_type": "code",
   "execution_count": 8,
   "metadata": {
    "collapsed": false
   },
   "outputs": [],
   "source": [
    "for i in ios_data:\n",
    "    if len(i) > 16 or len(i) < 16:\n",
    "        del i"
   ]
  },
  {
   "cell_type": "code",
   "execution_count": 9,
   "metadata": {
    "collapsed": false
   },
   "outputs": [
    {
     "data": {
      "text/plain": [
       "7198"
      ]
     },
     "execution_count": 9,
     "metadata": {},
     "output_type": "execute_result"
    }
   ],
   "source": [
    "len(ios_data) "
   ]
  },
  {
   "cell_type": "code",
   "execution_count": 10,
   "metadata": {
    "collapsed": true
   },
   "outputs": [],
   "source": [
    "def check_duplicates(dataset):\n",
    "    duplicate_list = []\n",
    "    unique_list = []\n",
    "    for i in dataset:\n",
    "        app_name = i[0]\n",
    "        if app_name in unique_list:\n",
    "            duplicate_list.append(app_name)\n",
    "        else:\n",
    "            unique_list.append(app_name)\n",
    "    return duplicate_list, unique_list"
   ]
  },
  {
   "cell_type": "code",
   "execution_count": 11,
   "metadata": {
    "collapsed": false
   },
   "outputs": [],
   "source": [
    "ios_check_duplicates = check_duplicates(ios_data) "
   ]
  },
  {
   "cell_type": "code",
   "execution_count": 12,
   "metadata": {
    "collapsed": true
   },
   "outputs": [],
   "source": [
    "android_check_duplicates = check_duplicates(android_data) "
   ]
  },
  {
   "cell_type": "code",
   "execution_count": 13,
   "metadata": {
    "collapsed": false
   },
   "outputs": [
    {
     "name": "stdout",
     "output_type": "stream",
     "text": [
      "No. of duplicate IOS apps: 0\n",
      "No. of unique IOS apps: 7198\n",
      "No. of duplicate Android apps: 1181\n",
      "No. of unique Android apps: 9660\n"
     ]
    }
   ],
   "source": [
    "print(\"No. of duplicate IOS apps: {}\".format(len(ios_check_duplicates[0])))\n",
    "print(\"No. of unique IOS apps: {}\".format(len(ios_check_duplicates[1])))\n",
    "print(\"No. of duplicate Android apps: {}\".format(len(android_check_duplicates[0])))\n",
    "print(\"No. of unique Android apps: {}\".format(len(android_check_duplicates[1])))"
   ]
  },
  {
   "cell_type": "markdown",
   "metadata": {},
   "source": [
    "We can clearly see that the Android dataset has **1181** duplicate apps and **9660** unique apps, while the IOS dataset is unique and has no duplicate apps. This will lead us to deal with the duplicate apps in the Android dataset."
   ]
  },
  {
   "cell_type": "markdown",
   "metadata": {},
   "source": [
    "## Dealing with duplicate apps in the andriod data\n",
    "A detail look at the dataset lead to decided, first, to convert the \"Reviews\" column to integers instead strings then build a function that filters the new dataframe with the unique apps only."
   ]
  },
  {
   "cell_type": "code",
   "execution_count": 14,
   "metadata": {
    "collapsed": true
   },
   "outputs": [],
   "source": [
    "def get_unique_android(dataset):\n",
    "    \"\"\"\n",
    "    The function takes a nested list and does two things:\n",
    "    1- sort the nested list by the maximum value of each list.\n",
    "    2- drop the duplicate list by its index of 0 and append the\n",
    "       unique result to a new nested list. \n",
    "    This way will guarnatee that a duplicate list with lower number\n",
    "    of reviews will be dropped and the highest value will be kept.\n",
    "    \"\"\"\n",
    "    dataset.sort(key=lambda x: (int(x[3]), x[0]), reverse=True)\n",
    "    unique_android = []\n",
    "    for i in dataset:\n",
    "        if i[0] not in [k[0] for k in unique_android]:\n",
    "            unique_android.append(i)\n",
    "    return unique_android"
   ]
  },
  {
   "cell_type": "code",
   "execution_count": 15,
   "metadata": {
    "collapsed": false,
    "scrolled": true
   },
   "outputs": [],
   "source": [
    "unique_android = get_unique_android(android_data[1:])"
   ]
  },
  {
   "cell_type": "code",
   "execution_count": 16,
   "metadata": {
    "collapsed": false
   },
   "outputs": [
    {
     "name": "stdout",
     "output_type": "stream",
     "text": [
      "The android dataset has 9659 of unique apps\n"
     ]
    }
   ],
   "source": [
    "print(\"The android dataset has {} of unique apps\".format(len(unique_android)))"
   ]
  },
  {
   "cell_type": "markdown",
   "metadata": {
    "collapsed": true
   },
   "source": [
    "## Removing Non-English Apps\n",
    "After filtering and as per discussion around this project, the company has a tendency to build an application for English audience only and so, the next part will lead us to a new dataset that has only English apps from the IOS and unique Android data."
   ]
  },
  {
   "cell_type": "code",
   "execution_count": 17,
   "metadata": {
    "collapsed": false
   },
   "outputs": [],
   "source": [
    "def english_string(string):\n",
    "    \"\"\"\n",
    "    This function takes a string to check whether an app name\n",
    "    is recoreded in English or not.\n",
    "    \"\"\"\n",
    "    non_english = 0\n",
    "    for character in string:\n",
    "        if ord(character) > 127:\n",
    "            non_english += 1\n",
    "    if non_english > 3:\n",
    "        return False\n",
    "    return True"
   ]
  },
  {
   "cell_type": "code",
   "execution_count": 18,
   "metadata": {
    "collapsed": false
   },
   "outputs": [
    {
     "name": "stdout",
     "output_type": "stream",
     "text": [
      "True\n",
      "True\n",
      "False\n",
      "True\n",
      "True\n"
     ]
    }
   ],
   "source": [
    "print(english_string('Docs To Go™ Free Office Suite'))\n",
    "print(english_string('Instagram'))\n",
    "print(english_string('爱奇艺PPS -《欢乐颂2》电视剧热播'))\n",
    "print(english_string('Gmail'))\n",
    "print(english_string('Instachat 😜'))"
   ]
  },
  {
   "cell_type": "code",
   "execution_count": 19,
   "metadata": {
    "collapsed": true
   },
   "outputs": [],
   "source": [
    "def get_english_apps(dataset, n):\n",
    "    \"\"\"\n",
    "    This function takes the main df and number of indexing.\n",
    "    It returns two lists; one that holds the English apps\n",
    "    in a dataset and the other hold the non-English apps.\n",
    "    \"\"\"\n",
    "    english_apps = []\n",
    "    non_english_apps = []\n",
    "    for i in dataset:\n",
    "        app_name = i[n]\n",
    "        if english_string(app_name) == True:\n",
    "            english_apps.append(i)\n",
    "        else:\n",
    "            non_english_apps.append(i)\n",
    "    return english_apps, non_english_apps"
   ]
  },
  {
   "cell_type": "code",
   "execution_count": 20,
   "metadata": {
    "collapsed": false
   },
   "outputs": [],
   "source": [
    "android_nested_apps = get_english_apps(unique_android, 0)\n",
    "android_english = android_nested_apps[0]"
   ]
  },
  {
   "cell_type": "code",
   "execution_count": 21,
   "metadata": {
    "collapsed": false
   },
   "outputs": [],
   "source": [
    "ios_nested_apps = get_english_apps(ios_data, 1)\n",
    "ios_english = ios_nested_apps[0]"
   ]
  },
  {
   "cell_type": "code",
   "execution_count": 22,
   "metadata": {
    "collapsed": false
   },
   "outputs": [
    {
     "name": "stdout",
     "output_type": "stream",
     "text": [
      "No. of English Apps in the IOS df is: 6184\n",
      "No. of Non-English Apps in the IOS df is: 1014\n",
      "No. of English Apps in the Android df is: 9614\n",
      "No. of Non-English Apps in the Android df is: 45\n"
     ]
    }
   ],
   "source": [
    "print(\"No. of English Apps in the IOS df is: {}\".format(len(ios_english)))\n",
    "print(\"No. of Non-English Apps in the IOS df is: {}\".format(len(ios_nested_apps[1])))\n",
    "print(\"No. of English Apps in the Android df is: {}\".format(len(android_english)))\n",
    "print(\"No. of Non-English Apps in the Android df is: {}\".format(len(android_nested_apps[1])))"
   ]
  },
  {
   "cell_type": "markdown",
   "metadata": {},
   "source": [
    "## Isolating Free Apps\n",
    "As per discussion around this project, the company has a tendency to build an application that is free to download and install and the main source of revenue consists of in-app ads and so, the next part will lead us to a new dataset that has only free apps from the IOS or Android data."
   ]
  },
  {
   "cell_type": "code",
   "execution_count": 23,
   "metadata": {
    "collapsed": false
   },
   "outputs": [],
   "source": [
    "def check_price(dataset, n):\n",
    "    \"\"\"\n",
    "    This function is to find the free and non-free application.\n",
    "    It takes a dataset and a number to index at.\n",
    "    \"\"\"\n",
    "    free_apps = []\n",
    "    non_free_apps = []\n",
    "    for i in dataset:\n",
    "        price = float(i[n].strip(\"$\"))\n",
    "        if price == 0.0:\n",
    "            free_apps.append(i)\n",
    "        else:\n",
    "            non_free_apps.append(i)\n",
    "    return free_apps, non_free_apps"
   ]
  },
  {
   "cell_type": "code",
   "execution_count": 24,
   "metadata": {
    "collapsed": false
   },
   "outputs": [],
   "source": [
    "check_android_price = check_price(android_english, 7)\n",
    "android_clean = check_android_price[0]"
   ]
  },
  {
   "cell_type": "code",
   "execution_count": 25,
   "metadata": {
    "collapsed": false
   },
   "outputs": [
    {
     "name": "stdout",
     "output_type": "stream",
     "text": [
      "Number of Free Android Apps: 8864\n",
      "Number of Non-Free Android Apps: 750\n"
     ]
    }
   ],
   "source": [
    "print(\"Number of Free Android Apps: {}\".format(len(check_android_price[0])))\n",
    "print(\"Number of Non-Free Android Apps: {}\".format(len(check_android_price[1])))"
   ]
  },
  {
   "cell_type": "code",
   "execution_count": 26,
   "metadata": {
    "collapsed": true
   },
   "outputs": [],
   "source": [
    "# Appending a the header list to the new dataset\n",
    "android_clean[0:0] = [['App','Category','Rating','Reviews','Size',\n",
    "                       'Installs','Type','Price','Content Rating',\n",
    "                       'Genres','Last Updated','Current Ver',\n",
    "                       'Android Ver']]"
   ]
  },
  {
   "cell_type": "code",
   "execution_count": 27,
   "metadata": {
    "collapsed": false
   },
   "outputs": [],
   "source": [
    "check_ios_price = check_price(ios_english[1:], 4)\n",
    "ios_clean = check_ios_price[0]"
   ]
  },
  {
   "cell_type": "code",
   "execution_count": 28,
   "metadata": {
    "collapsed": false
   },
   "outputs": [
    {
     "name": "stdout",
     "output_type": "stream",
     "text": [
      "Number of Free IOS Apps: 3222\n",
      "Number of Non-Free IOS Apps: 2961\n"
     ]
    }
   ],
   "source": [
    "print(\"Number of Free IOS Apps: {}\".format(len(check_ios_price[0])))\n",
    "print(\"Number of Non-Free IOS Apps: {}\".format(len(check_ios_price[1])))"
   ]
  },
  {
   "cell_type": "code",
   "execution_count": 29,
   "metadata": {
    "collapsed": false
   },
   "outputs": [],
   "source": [
    "# Appending a the header list to the new dataset\n",
    "ios_clean[0:0] = [['id','track_name','size_bytes','currency',\n",
    "                  'price','rating_count_tot','rating_count_ver',\n",
    "                  'user_rating','user_rating_ver','ver',\n",
    "                  'cont_rating','prime_genre','sup_devices.num',\n",
    "                  'ipadSc_urls.num','lang.num','vpp_lic']]"
   ]
  },
  {
   "cell_type": "markdown",
   "metadata": {},
   "source": [
    "### Phase Two: Data Analysis in Python"
   ]
  },
  {
   "cell_type": "markdown",
   "metadata": {},
   "source": [
    "Finding an app profile that fits the App Store and Google Play is a primary goal for the comapny. That will enable the development team to build an application that will raise the highest rate of profit as the company's revenue is based manily on ads and thus, the more users the app has, the better."
   ]
  },
  {
   "cell_type": "code",
   "execution_count": 30,
   "metadata": {
    "collapsed": false
   },
   "outputs": [],
   "source": [
    "# import operator\n",
    "def check_genre_frequency(dataset, n):\n",
    "    \"\"\"\n",
    "    This function takes the following:\n",
    "    1- dataframe.\n",
    "    2- n: (int) that will index a specific column.\n",
    "    It indexes the genre column in android and IOS dataframe.\n",
    "    It counts the elements and return the highest recommendation\n",
    "    to build a mobile app that fits both markets.\n",
    "    \"\"\"\n",
    "    frequency_table = {}\n",
    "    total = 0\n",
    "    \n",
    "    for i in dataset:\n",
    "        total += 1\n",
    "        column = i[n]\n",
    "        if column in frequency_table:\n",
    "            frequency_table[column] += 1\n",
    "        else:\n",
    "            frequency_table[column] = 1\n",
    "    for key in frequency_table:\n",
    "        percentage =  round((frequency_table[key] / total) * 100, 2)\n",
    "        frequency_table[key] = percentage\n",
    "#     sorted_genres = sorted(frequency_table_percentage.items(), key=operator.itemgetter(1), reverse=True)\n",
    "    return frequency_table"
   ]
  },
  {
   "cell_type": "code",
   "execution_count": 31,
   "metadata": {
    "collapsed": true
   },
   "outputs": [],
   "source": [
    "def display_table(dataset, index):\n",
    "    frequency_table = check_genre_frequency(dataset, index)\n",
    "    table_display = []\n",
    "    for key in frequency_table:\n",
    "        frequency_tuple = (frequency_table[key], key)\n",
    "        table_display.append(frequency_tuple)\n",
    "        \n",
    "    table_sorted = sorted(table_display, reverse = True)\n",
    "    for entry in table_sorted:\n",
    "        print(entry[1], \":\", entry[0])"
   ]
  },
  {
   "cell_type": "code",
   "execution_count": 38,
   "metadata": {
    "collapsed": false
   },
   "outputs": [],
   "source": [
    "def get_genre_average(dataset, genres_list, n, k):\n",
    "    for genre in genres_list:\n",
    "        total = 0\n",
    "        genre_length = 0\n",
    "        for app in dataset:\n",
    "            app_genre = app[n]\n",
    "            if app_genre == genre:\n",
    "                n_ratings = float(app[k].replace('+','').replace(',',''))\n",
    "                total += n_ratings\n",
    "                genre_length += 1\n",
    "        rating_average = round(total / genre_length, 2)\n",
    "        print(genre, ':', rating_average)"
   ]
  },
  {
   "cell_type": "code",
   "execution_count": 33,
   "metadata": {
    "collapsed": false
   },
   "outputs": [
    {
     "data": {
      "text/plain": [
       "{'ART_AND_DESIGN': 0.64,\n",
       " 'AUTO_AND_VEHICLES': 0.93,\n",
       " 'BEAUTY': 0.6,\n",
       " 'BOOKS_AND_REFERENCE': 2.14,\n",
       " 'BUSINESS': 4.59,\n",
       " 'COMICS': 0.62,\n",
       " 'COMMUNICATION': 3.24,\n",
       " 'DATING': 1.86,\n",
       " 'EDUCATION': 1.16,\n",
       " 'ENTERTAINMENT': 0.96,\n",
       " 'EVENTS': 0.71,\n",
       " 'FAMILY': 18.91,\n",
       " 'FINANCE': 3.7,\n",
       " 'FOOD_AND_DRINK': 1.24,\n",
       " 'GAME': 9.72,\n",
       " 'HEALTH_AND_FITNESS': 3.08,\n",
       " 'HOUSE_AND_HOME': 0.82,\n",
       " 'LIBRARIES_AND_DEMO': 0.94,\n",
       " 'LIFESTYLE': 3.9,\n",
       " 'MAPS_AND_NAVIGATION': 1.4,\n",
       " 'MEDICAL': 3.53,\n",
       " 'NEWS_AND_MAGAZINES': 2.8,\n",
       " 'PARENTING': 0.65,\n",
       " 'PERSONALIZATION': 3.32,\n",
       " 'PHOTOGRAPHY': 2.94,\n",
       " 'PRODUCTIVITY': 3.89,\n",
       " 'SHOPPING': 2.25,\n",
       " 'SOCIAL': 2.66,\n",
       " 'SPORTS': 3.4,\n",
       " 'TOOLS': 8.46,\n",
       " 'TRAVEL_AND_LOCAL': 2.34,\n",
       " 'VIDEO_PLAYERS': 1.79,\n",
       " 'WEATHER': 0.8}"
      ]
     },
     "execution_count": 33,
     "metadata": {},
     "output_type": "execute_result"
    }
   ],
   "source": [
    "android_category = check_genre_frequency(android_clean[1:], 1)\n",
    "android_category"
   ]
  },
  {
   "cell_type": "code",
   "execution_count": 35,
   "metadata": {
    "collapsed": false
   },
   "outputs": [
    {
     "name": "stdout",
     "output_type": "stream",
     "text": [
      "FAMILY : 18.91\n",
      "GAME : 9.72\n",
      "TOOLS : 8.46\n",
      "BUSINESS : 4.59\n",
      "LIFESTYLE : 3.9\n",
      "PRODUCTIVITY : 3.89\n",
      "FINANCE : 3.7\n",
      "MEDICAL : 3.53\n",
      "SPORTS : 3.4\n",
      "PERSONALIZATION : 3.32\n",
      "COMMUNICATION : 3.24\n",
      "HEALTH_AND_FITNESS : 3.08\n",
      "PHOTOGRAPHY : 2.94\n",
      "NEWS_AND_MAGAZINES : 2.8\n",
      "SOCIAL : 2.66\n",
      "TRAVEL_AND_LOCAL : 2.34\n",
      "SHOPPING : 2.25\n",
      "BOOKS_AND_REFERENCE : 2.14\n",
      "DATING : 1.86\n",
      "VIDEO_PLAYERS : 1.79\n",
      "MAPS_AND_NAVIGATION : 1.4\n",
      "FOOD_AND_DRINK : 1.24\n",
      "EDUCATION : 1.16\n",
      "ENTERTAINMENT : 0.96\n",
      "LIBRARIES_AND_DEMO : 0.94\n",
      "AUTO_AND_VEHICLES : 0.93\n",
      "HOUSE_AND_HOME : 0.82\n",
      "WEATHER : 0.8\n",
      "EVENTS : 0.71\n",
      "PARENTING : 0.65\n",
      "ART_AND_DESIGN : 0.64\n",
      "COMICS : 0.62\n",
      "BEAUTY : 0.6\n"
     ]
    }
   ],
   "source": [
    "android_frequency_category = display_table(android_clean[1:], 1)\n",
    "android_frequency_category "
   ]
  },
  {
   "cell_type": "code",
   "execution_count": 40,
   "metadata": {
    "collapsed": false
   },
   "outputs": [
    {
     "name": "stdout",
     "output_type": "stream",
     "text": [
      "ENTERTAINMENT : 11640705.88\n",
      "PRODUCTIVITY : 16787331.34\n",
      "PERSONALIZATION : 5201482.61\n",
      "WEATHER : 5074486.2\n",
      "HOUSE_AND_HOME : 1331540.56\n",
      "BEAUTY : 513151.89\n",
      "COMICS : 817657.27\n",
      "FAMILY : 3695641.82\n",
      "TOOLS : 10801391.3\n",
      "HEALTH_AND_FITNESS : 4188821.99\n",
      "SOCIAL : 23253652.13\n",
      "DATING : 854028.83\n",
      "VIDEO_PLAYERS : 24727872.45\n",
      "ART_AND_DESIGN : 1986335.09\n",
      "LIBRARIES_AND_DEMO : 638503.73\n",
      "MAPS_AND_NAVIGATION : 4056941.77\n",
      "FINANCE : 1387692.48\n",
      "AUTO_AND_VEHICLES : 647317.82\n",
      "PARENTING : 542603.62\n",
      "NEWS_AND_MAGAZINES : 9549178.47\n",
      "LIFESTYLE : 1437816.27\n",
      "BOOKS_AND_REFERENCE : 8767811.89\n",
      "SHOPPING : 7036877.31\n",
      "EVENTS : 253542.22\n",
      "GAME : 15588015.6\n",
      "TRAVEL_AND_LOCAL : 13984077.71\n",
      "PHOTOGRAPHY : 17840110.4\n",
      "COMMUNICATION : 38456119.17\n",
      "EDUCATION : 1833495.15\n",
      "FOOD_AND_DRINK : 1924897.74\n",
      "BUSINESS : 1712290.15\n",
      "MEDICAL : 120550.62\n",
      "SPORTS : 3638640.14\n"
     ]
    }
   ],
   "source": [
    "android_average_rating = get_genre_average(android_clean[1:], android_category, 1, 5)"
   ]
  },
  {
   "cell_type": "raw",
   "metadata": {
    "collapsed": false
   },
   "source": [
    "android_genres = check_genre_frequency(android_clean[1:], -4)\n",
    "android_genres"
   ]
  },
  {
   "cell_type": "raw",
   "metadata": {},
   "source": [
    "android_frequency_genre = display_table(android_clean[1:], -4)\n",
    "android_frequency_genre "
   ]
  },
  {
   "cell_type": "code",
   "execution_count": 36,
   "metadata": {
    "collapsed": false
   },
   "outputs": [
    {
     "data": {
      "text/plain": [
       "{'Book': 0.43,\n",
       " 'Business': 0.53,\n",
       " 'Catalogs': 0.12,\n",
       " 'Education': 3.66,\n",
       " 'Entertainment': 7.88,\n",
       " 'Finance': 1.12,\n",
       " 'Food & Drink': 0.81,\n",
       " 'Games': 58.16,\n",
       " 'Health & Fitness': 2.02,\n",
       " 'Lifestyle': 1.58,\n",
       " 'Medical': 0.19,\n",
       " 'Music': 2.05,\n",
       " 'Navigation': 0.19,\n",
       " 'News': 1.33,\n",
       " 'Photo & Video': 4.97,\n",
       " 'Productivity': 1.74,\n",
       " 'Reference': 0.56,\n",
       " 'Shopping': 2.61,\n",
       " 'Social Networking': 3.29,\n",
       " 'Sports': 2.14,\n",
       " 'Travel': 1.24,\n",
       " 'Utilities': 2.51,\n",
       " 'Weather': 0.87}"
      ]
     },
     "execution_count": 36,
     "metadata": {},
     "output_type": "execute_result"
    }
   ],
   "source": [
    "ios_prime_genres = check_genre_frequency(ios_clean[1:], -5)\n",
    "ios_prime_genres"
   ]
  },
  {
   "cell_type": "code",
   "execution_count": 37,
   "metadata": {
    "collapsed": false
   },
   "outputs": [
    {
     "name": "stdout",
     "output_type": "stream",
     "text": [
      "Games : 58.16\n",
      "Entertainment : 7.88\n",
      "Photo & Video : 4.97\n",
      "Education : 3.66\n",
      "Social Networking : 3.29\n",
      "Shopping : 2.61\n",
      "Utilities : 2.51\n",
      "Sports : 2.14\n",
      "Music : 2.05\n",
      "Health & Fitness : 2.02\n",
      "Productivity : 1.74\n",
      "Lifestyle : 1.58\n",
      "News : 1.33\n",
      "Travel : 1.24\n",
      "Finance : 1.12\n",
      "Weather : 0.87\n",
      "Food & Drink : 0.81\n",
      "Reference : 0.56\n",
      "Business : 0.53\n",
      "Book : 0.43\n",
      "Navigation : 0.19\n",
      "Medical : 0.19\n",
      "Catalogs : 0.12\n"
     ]
    }
   ],
   "source": [
    "ios_frequency_genre = display_table(ios_clean[1:], -5)\n",
    "ios_frequency_genre "
   ]
  },
  {
   "cell_type": "code",
   "execution_count": 39,
   "metadata": {
    "collapsed": false
   },
   "outputs": [
    {
     "name": "stdout",
     "output_type": "stream",
     "text": [
      "Games : 22788.67\n",
      "Business : 7491.12\n",
      "Reference : 74942.11\n",
      "Catalogs : 4004.0\n",
      "Entertainment : 14029.83\n",
      "Utilities : 18684.46\n",
      "Travel : 28243.8\n",
      "Book : 39758.5\n",
      "Social Networking : 71548.35\n",
      "Health & Fitness : 23298.02\n",
      "Navigation : 86090.33\n",
      "Finance : 31467.94\n",
      "Productivity : 21028.41\n",
      "Music : 57326.53\n",
      "Photo & Video : 28441.54\n",
      "News : 21248.02\n",
      "Sports : 23008.9\n",
      "Weather : 52279.89\n",
      "Shopping : 26919.69\n",
      "Medical : 612.0\n",
      "Lifestyle : 16485.76\n",
      "Food & Drink : 33333.92\n",
      "Education : 7003.98\n"
     ]
    }
   ],
   "source": [
    "ios_average_rating = get_genre_average(ios_clean[1:], ios_prime_genres, -5, 5)"
   ]
  },
  {
   "cell_type": "markdown",
   "metadata": {
    "collapsed": false
   },
   "source": [
    "#### Analyzing the frequency table of prime genre in IOS data\n",
    "We can conclude that Games and Entertainment are, respectively, coming at the first place of the most common app-categories that got interest to IOS users. Games takes around *58%* of our whole dataset and Entertainment takes around *8%*. Also, it's obvious that IOS users lose interest in apps that provide such as a service in weather, food & drink, reference. My direct impression is that most IOS users are more likely to install apps related to entertainment purposes since Games, Photo&Video, Social Networking and shopping are taking the most frequency in the table."
   ]
  },
  {
   "cell_type": "code",
   "execution_count": null,
   "metadata": {
    "collapsed": false
   },
   "outputs": [],
   "source": []
  },
  {
   "cell_type": "code",
   "execution_count": null,
   "metadata": {
    "collapsed": false
   },
   "outputs": [],
   "source": []
  },
  {
   "cell_type": "code",
   "execution_count": null,
   "metadata": {
    "collapsed": true
   },
   "outputs": [],
   "source": []
  }
 ],
 "metadata": {
  "kernelspec": {
   "display_name": "Python 3",
   "language": "python",
   "name": "python3"
  },
  "language_info": {
   "codemirror_mode": {
    "name": "ipython",
    "version": 3
   },
   "file_extension": ".py",
   "mimetype": "text/x-python",
   "name": "python",
   "nbconvert_exporter": "python",
   "pygments_lexer": "ipython3",
   "version": "3.4.3"
  }
 },
 "nbformat": 4,
 "nbformat_minor": 2
}
